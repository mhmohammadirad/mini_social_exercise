{
 "cells": [
  {
   "cell_type": "code",
   "execution_count": 1,
   "id": "2aca1b1b",
   "metadata": {},
   "outputs": [],
   "source": [
    "import sqlite3\n",
    "\n",
    "conn = sqlite3.connect('database.sqlite')\n",
    "cursor = conn.cursor()\n",
    "\n",
    "cursor.execute(\"\"\"\n",
    "CREATE TABLE reports (\n",
    "    user_id INTEGER NOT NULL,\n",
    "    post_id INTEGER NOT NULL,\n",
    "    FOREIGN KEY (user_id) REFERENCES users(id),\n",
    "    FOREIGN KEY (post_id) REFERENCES posts(id)\n",
    ")\n",
    "\"\"\")\n",
    "\n",
    "conn.commit()\n",
    "conn.close()"
   ]
  },
  {
   "cell_type": "code",
   "execution_count": 2,
   "id": "51c1f295",
   "metadata": {},
   "outputs": [
    {
     "name": "stdout",
     "output_type": "stream",
     "text": [
      "[(539, 2781), (539, 3033), (539, 3033), (539, 3034), (540, 3034)]\n"
     ]
    }
   ],
   "source": [
    "import sqlite3\n",
    "\n",
    "conn = sqlite3.connect('database.sqlite')\n",
    "cursor = conn.cursor()\n",
    "\n",
    "cursor.execute(\"\"\"SELECT * FROM reports;\"\"\")\n",
    "data = cursor.fetchall()\n",
    "\n",
    "conn.close()\n",
    "print(data)"
   ]
  }
 ],
 "metadata": {
  "kernelspec": {
   "display_name": "Python 3",
   "language": "python",
   "name": "python3"
  },
  "language_info": {
   "codemirror_mode": {
    "name": "ipython",
    "version": 3
   },
   "file_extension": ".py",
   "mimetype": "text/x-python",
   "name": "python",
   "nbconvert_exporter": "python",
   "pygments_lexer": "ipython3",
   "version": "3.9.6"
  }
 },
 "nbformat": 4,
 "nbformat_minor": 5
}
